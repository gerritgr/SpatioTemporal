{
  "cells": [
    {
      "cell_type": "code",
      "execution_count": 2,
      "metadata": {
        "colab": {
          "base_uri": "https://localhost:8080/",
          "height": 216
        },
        "id": "tm-rIPAtesWk",
        "outputId": "fd04522b-9a13-48e4-83bf-a4aba935a261"
      },
      "outputs": [
        {
          "name": "stdout",
          "output_type": "stream",
          "text": [
            "Simulated event times: [0.032373527145431104, 0.23164781521645073, 1.330709889774885, 1.4070413963807842, 1.9982486512744575, 3.042299189482155, 3.4080354779663073, 3.54988307994945, 4.6345642030422365, 4.915348840583749, 4.951094534653497, 5.137664287466966, 5.408683001459482, 5.800656334080513, 5.961104702714726, 6.932851329617797, 6.980623919031426, 7.6527549158203945, 7.97041027465568, 8.058366970510594, 8.432292851161455, 8.448339167851996, 8.476113423612537, 8.937909179648633, 9.49341217197866, 9.641596011482546, 9.678927235501238]\n"
          ]
        },
        {
          "data": {
            "image/png": "[encoded data removed]",
            "text/plain": [
              "<Figure size 1000x100 with 1 Axes>"
            ]
          },
          "metadata": {},
          "output_type": "display_data"
        }
      ],
      "source": [
        "import numpy as np\n",
        "import matplotlib.pyplot as plt\n",
        "\n",
        "class ThinningAlgorithm:\n",
        "    def __init__(self, time_horizon, upper_bound_rate, kernel=None):\n",
        "        self.time_horizon = time_horizon\n",
        "        self.upper_bound_rate = upper_bound_rate\n",
        "        if kernel is None:\n",
        "            # Default to exponential kernel with decay parameter 1.0\n",
        "            self.kernel = lambda t: np.exp(-t)\n",
        "        else:\n",
        "            self.kernel = kernel\n",
        "\n",
        "    def simulate(self):\n",
        "        events = []\n",
        "        current_time = 0\n",
        "\n",
        "        while current_time < self.time_horizon:\n",
        "            # Sample the next candidate event time from a Poisson process with the upper bound rate\n",
        "            inter_event_time = np.random.exponential(1 / self.upper_bound_rate)\n",
        "            current_time += inter_event_time\n",
        "\n",
        "            if current_time >= self.time_horizon:\n",
        "                break\n",
        "\n",
        "            # Compute the intensity at the current time\n",
        "            intensity = self.kernel(current_time - np.array(events)).sum() if events else 0\n",
        "            mu = 1.0  # Baseline intensity\n",
        "            total_intensity = mu + intensity\n",
        "\n",
        "            # Accept the candidate event with probability proportional to the current intensity\n",
        "            if np.random.uniform(0, 1) < total_intensity / self.upper_bound_rate:\n",
        "                events.append(current_time)\n",
        "\n",
        "        return events\n",
        "\n",
        "# Function to simulate a temporal point process using the thinning algorithm\n",
        "def simulate_temporal_point_process(time_horizon, upper_bound_rate, kernel=None):\n",
        "    thinning_algorithm = ThinningAlgorithm(time_horizon, upper_bound_rate, kernel)\n",
        "    return thinning_algorithm.simulate()\n",
        "\n",
        "# Example usage\n",
        "time_horizon = 10.0\n",
        "upper_bound_rate = 5.0  # Upper bound of the rate\n",
        "events = simulate_temporal_point_process(time_horizon, upper_bound_rate)\n",
        "print(\"Simulated event times:\", events)\n",
        "\n",
        "# Plotting the event times\n",
        "plt.figure(figsize=(10, 1))\n",
        "plt.eventplot(events, orientation='horizontal', colors='black')\n",
        "plt.xlim(0, time_horizon)\n",
        "plt.xlabel('Time')\n",
        "plt.title('Simulated Temporal Point Process')\n",
        "plt.show()\n"
      ]
    },
    {
      "cell_type": "code",
      "execution_count": 3,
      "metadata": {
        "colab": {
          "base_uri": "https://localhost:8080/",
          "height": 216
        },
        "id": "vqQsmBZ7e6cH",
        "outputId": "3a133a95-90ea-4f59-b4d2-648bb6019a5c"
      },
      "outputs": [
        {
          "name": "stdout",
          "output_type": "stream",
          "text": [
            "Simulated event times: [1.8123, 2.7819000000000003, 2.8379000000000003, 3.3088, 3.3226, 3.5534000000000003, 3.5624000000000002, 3.5927000000000002, 3.5984000000000003, 3.7129000000000003, 3.9848000000000003, 4.115200000000001, 4.2006000000000006, 4.7568, 4.9707, 5.008900000000001, 5.1153, 5.4626, 5.7034, 5.7889, 5.9604, 6.1363, 6.346900000000001, 6.4049000000000005, 6.4664, 6.5106, 6.6196, 6.6612, 6.712400000000001, 7.1005, 7.2128000000000005, 7.4238, 7.5549, 7.7506, 8.3671, 8.440100000000001, 8.491900000000001, 8.717500000000001, 8.8298, 8.9679, 9.302900000000001, 9.352400000000001, 9.4604, 9.921700000000001]\n"
          ]
        },
        {
          "data": {
            "image/png": "[encoded data removed]",
            "text/plain": [
              "<Figure size 1000x100 with 1 Axes>"
            ]
          },
          "metadata": {},
          "output_type": "display_data"
        }
      ],
      "source": [
        "import numpy as np\n",
        "import matplotlib.pyplot as plt\n",
        "\n",
        "class DiscreteTimeThinningAlgorithm:\n",
        "    def __init__(self, time_horizon, upper_bound_rate, delta=0.001, kernel=None):\n",
        "        self.time_horizon = time_horizon\n",
        "        self.upper_bound_rate = upper_bound_rate\n",
        "        self.delta = delta\n",
        "        if kernel is None:\n",
        "            # Default to exponential kernel with decay parameter 1.0\n",
        "            self.kernel = lambda t: np.exp(-t)\n",
        "        else:\n",
        "            self.kernel = kernel\n",
        "\n",
        "    def simulate(self):\n",
        "        events = []\n",
        "        num_intervals = int(self.time_horizon / self.delta)\n",
        "        potential_events = []\n",
        "\n",
        "        # Step 1: Generate potential events using the base process\n",
        "        for i in range(num_intervals):\n",
        "            current_time = i * self.delta\n",
        "            if np.random.uniform(0, 1) < self.delta * self.upper_bound_rate:\n",
        "                potential_events.append(current_time)\n",
        "\n",
        "        # Step 2: Thinning\n",
        "        for event_time in potential_events:\n",
        "            intensity = self.kernel(event_time - np.array(events)).sum() if events else 0\n",
        "            mu = 1.0  # Baseline intensity\n",
        "            total_intensity = mu + intensity\n",
        "\n",
        "            # Accept the candidate event with probability proportional to the current intensity\n",
        "            if np.random.uniform(0, 1) < total_intensity / self.upper_bound_rate:\n",
        "                events.append(event_time)\n",
        "\n",
        "        return events\n",
        "\n",
        "# Function to simulate a temporal point process using the discrete-time thinning algorithm\n",
        "def simulate_temporal_point_process(time_horizon, upper_bound_rate, delta=0.001, kernel=None):\n",
        "    thinning_algorithm = DiscreteTimeThinningAlgorithm(time_horizon, upper_bound_rate, delta, kernel)\n",
        "    return thinning_algorithm.simulate()\n",
        "\n",
        "# Example usage\n",
        "time_horizon = 10.0\n",
        "upper_bound_rate = 5.0  # Upper bound of the rate\n",
        "delta = 0.0001  # Interval size\n",
        "events = simulate_temporal_point_process(time_horizon, upper_bound_rate, delta)\n",
        "print(\"Simulated event times:\", events)\n",
        "\n",
        "# Plotting the event times\n",
        "plt.figure(figsize=(10, 1))\n",
        "plt.eventplot(events, orientation='horizontal', colors='black')\n",
        "plt.xlim(0, time_horizon)\n",
        "plt.xlabel('Time')\n",
        "plt.title('Simulated Temporal Point Process')\n",
        "plt.show()\n"
      ]
    },
    {
      "cell_type": "code",
      "execution_count": null,
      "metadata": {
        "id": "CdnxtVn3gWco"
      },
      "outputs": [],
      "source": []
    }
  ],
  "metadata": {
    "colab": {
      "provenance": [],
      "toc_visible": true
    },
    "kernelspec": {
      "display_name": "Python 3",
      "name": "python3"
    },
    "language_info": {
      "codemirror_mode": {
        "name": "ipython",
        "version": 3
      },
      "file_extension": ".py",
      "mimetype": "text/x-python",
      "name": "python",
      "nbconvert_exporter": "python",
      "pygments_lexer": "ipython3",
      "version": "3.11.7"
    }
  },
  "nbformat": 4,
  "nbformat_minor": 0
}
