{
  "cells": [
    {
      "cell_type": "markdown",
      "metadata": {},
      "source": [
        "### Simulation"
      ]
    },
    {
      "cell_type": "markdown",
      "metadata": {},
      "source": [
        "Simulation of homogeneous Poisson point process."
      ]
    },
    {
      "cell_type": "code",
      "execution_count": 14,
      "metadata": {},
      "outputs": [],
      "source": [
        "import numpy as np\n",
        "\n",
        "def sample_exponential_numpy(lambda_rate):\n",
        "    return np.random.exponential(1 / lambda_rate)\n",
        "\n",
        "def sample_exponential_inverse_transform(lambda_rate):\n",
        "    u = np.random.uniform(0, 1)\n",
        "    return -np.log(1 - u) / lambda_rate\n",
        "\n",
        "def sample_exponential_discretization(lambda_rate, dt=0.01):\n",
        "    t = 0\n",
        "    while True:\n",
        "        t += dt\n",
        "        if np.random.uniform(0, 1) < lambda_rate * dt:\n",
        "            return t\n",
        "        \n",
        "def sample_exponential_rescale(lambda_rate):\n",
        "    sample = np.random.exponential(1)\n",
        "    return sample / lambda_rate"
      ]
    },
    {
      "cell_type": "code",
      "execution_count": 15,
      "metadata": {},
      "outputs": [
        {
          "name": "stdout",
          "output_type": "stream",
          "text": [
            "Sampled event times: [0.09191517482172781, 0.13496377975308715, 0.5454649137584254, 1.000241368640632, 1.0291594626128984, 1.0816703937473175, 1.2441517596567886, 1.3045352469919311, 1.365237718961068, 3.897213495406589, 4.026212824334105, 4.316976563476079, 4.870358999549454, 5.6828316758688135, 6.03784176292136, 6.139281857325777, 6.767364779736147, 7.196728641915186, 8.68818347008537, 9.384891974666717, 9.992303797492285]\n"
          ]
        }
      ],
      "source": [
        "def sample_homogeneous_point_process(h = 10.0, lambda_rate = 1.0):\n",
        "    # Input: time horizon h > 0, rate lambda > 0\n",
        "    # Output: list of event times\n",
        "    events = []\n",
        "    t = 0\n",
        "    while t < h:\n",
        "        # Generate the time to the next event using the exponential distribution\n",
        "        # !!! In Numpy, the exponential distribution is parameterized with the mean, not the rate. !!!\n",
        "        delta_t = sample_exponential_numpy(lambda_rate)\n",
        "        t += delta_t # Update the current time\n",
        "        if t < h:     # If the updated time is within the time horizon, add it to the list\n",
        "            events.append(t)\n",
        "    return events\n",
        "\n",
        "# Example usage:\n",
        "time_horizon = 10  # Time horizon h > 0\n",
        "rate_lambda = 2    # Rate lambda > 0\n",
        "sample = sample_homogeneous_point_process(time_horizon, rate_lambda)\n",
        "print(\"Sampled event times:\", sample)\n"
      ]
    },
    {
      "cell_type": "markdown",
      "metadata": {},
      "source": [
        "### Non-homogeneous Poisson point process"
      ]
    },
    {
      "cell_type": "code",
      "execution_count": null,
      "metadata": {},
      "outputs": [],
      "source": [
        "import numpy as np\n",
        "\n",
        "def sample_event_time(intensity_func, events, h, step_size):\n",
        "    t = 0\n",
        "    while True:\n",
        "        t += step_size\n",
        "        prob = intensity_func(t, events) * step_size\n",
        "        if np.random.random() < prob:\n",
        "            return t\n",
        "        if t > h:\n",
        "            return h\n",
        "\n",
        "def sample_inhomogeneous_point_process(h, intensity_func, step_size=0.001):\n",
        "    # Input: time horizon h > 0, intensity function\n",
        "    # Output: list of event times\n",
        "    events = []\n",
        "    t = 0\n",
        "    while t < h:\n",
        "        t_next = sample_event_time(intensity_func, events, h, step_size)\n",
        "        t += t_next\n",
        "        if t < h:  # If the updated time is within the time horizon, add it to the list\n",
        "            events.append(t)\n",
        "    return events\n",
        "\n",
        "# Example intensity function\n",
        "def example_intensity_func(t, events):\n",
        "    # A simple intensity function that increases with the number of past events\n",
        "    base_rate = 1.0 if t < 0.5 else 10.0\n",
        "    return base_rate + 0.1 * len(events)\n",
        "\n",
        "# Example usage\n",
        "time_horizon = 10.  # Time horizon h > 0\n",
        "sample = sample_inhomogeneous_point_process(time_horizon, example_intensity_func)\n",
        "print(\"Sampled event times:\", sample)\n"
      ]
    },
    {
      "cell_type": "code",
      "execution_count": null,
      "metadata": {},
      "outputs": [],
      "source": []
    },
    {
      "cell_type": "code",
      "execution_count": null,
      "metadata": {},
      "outputs": [],
      "source": []
    },
    {
      "cell_type": "code",
      "execution_count": null,
      "metadata": {},
      "outputs": [],
      "source": []
    },
    {
      "cell_type": "code",
      "execution_count": null,
      "metadata": {},
      "outputs": [],
      "source": []
    },
    {
      "cell_type": "code",
      "execution_count": null,
      "metadata": {},
      "outputs": [],
      "source": []
    },
    {
      "cell_type": "code",
      "execution_count": null,
      "metadata": {},
      "outputs": [],
      "source": []
    },
    {
      "cell_type": "code",
      "execution_count": null,
      "metadata": {},
      "outputs": [],
      "source": []
    },
    {
      "cell_type": "markdown",
      "metadata": {},
      "source": [
        "### Thinning"
      ]
    },
    {
      "cell_type": "code",
      "execution_count": 1,
      "metadata": {},
      "outputs": [
        {
          "name": "stdout",
          "output_type": "stream",
          "text": [
            "Simulated event times: [0.501224022088428, 0.8441673715159298, 0.9596232131677072, 1.0409498796440617, 1.156091501548081, 1.4846227288335145, 1.543789919688292, 1.637653481572447, 1.9273681441660202, 1.9938628614094518, 2.0611764114407456, 2.141910845358021, 2.2663740623137345, 2.2945058514703773, 2.30693711913151, 2.562761204958618, 2.6901563321270854, 3.0053395553547557, 3.0130395588784364, 3.227922275458138, 3.986694195612774, 4.079676935061707, 4.1119707422414, 4.800936426858971, 4.811230236195153, 4.837670162091252, 4.912501021409247, 4.996709245345034, 5.179061040962182, 5.408145789825244, 5.652027611818871, 5.85207123715512, 6.357283780873583, 6.412829804298998, 6.642765226137298, 6.832007500997399, 6.8628848399983875, 6.866623418311156, 6.916882269562655, 7.067190505569086, 7.320780003166382, 7.433620229493955, 7.680210138456623, 8.37886105457148, 8.469594614511266, 8.745232284812344, 9.02830979401853, 9.07191584879752, 9.66145821284555, 9.717297111952504, 9.917321394580213]\n"
          ]
        },
        {
          "data": {
            "image/png": "[encoded data removed]",
            "text/plain": [
              "<Figure size 1000x100 with 1 Axes>"
            ]
          },
          "metadata": {},
          "output_type": "display_data"
        }
      ],
      "source": [
        "import numpy as np\n",
        "import matplotlib.pyplot as plt\n",
        "\n",
        "class ThinningAlgorithm:\n",
        "    def __init__(self, time_horizon, upper_bound_rate, kernel=None):\n",
        "        self.time_horizon = time_horizon\n",
        "        self.upper_bound_rate = upper_bound_rate\n",
        "        if kernel is None:\n",
        "            # Default to exponential kernel with decay parameter 1.0\n",
        "            self.kernel = lambda t: np.exp(-t)\n",
        "        else:\n",
        "            self.kernel = kernel\n",
        "\n",
        "    def simulate(self):\n",
        "        events = []\n",
        "        current_time = 0\n",
        "\n",
        "        while current_time < self.time_horizon:\n",
        "            # Sample the next candidate event time from a Poisson process with the upper bound rate\n",
        "            inter_event_time = np.random.exponential(1 / self.upper_bound_rate)\n",
        "            current_time += inter_event_time\n",
        "\n",
        "            if current_time >= self.time_horizon:\n",
        "                break\n",
        "\n",
        "            # Compute the intensity at the current time\n",
        "            intensity = self.kernel(current_time - np.array(events)).sum() if events else 0\n",
        "            mu = 1.0  # Baseline intensity\n",
        "            total_intensity = mu + intensity\n",
        "\n",
        "            # Accept the candidate event with probability proportional to the current intensity\n",
        "            if np.random.uniform(0, 1) < total_intensity / self.upper_bound_rate:\n",
        "                events.append(current_time)\n",
        "\n",
        "        return events\n",
        "\n",
        "# Function to simulate a temporal point process using the thinning algorithm\n",
        "def simulate_temporal_point_process(time_horizon, upper_bound_rate, kernel=None):\n",
        "    thinning_algorithm = ThinningAlgorithm(time_horizon, upper_bound_rate, kernel)\n",
        "    return thinning_algorithm.simulate()\n",
        "\n",
        "# Example usage\n",
        "time_horizon = 10.0\n",
        "upper_bound_rate = 5.0  # Upper bound of the rate\n",
        "events = simulate_temporal_point_process(time_horizon, upper_bound_rate)\n",
        "print(\"Simulated event times:\", events)\n",
        "\n",
        "# Plotting the event times\n",
        "plt.figure(figsize=(10, 1))\n",
        "plt.eventplot(events, orientation='horizontal', colors='black')\n",
        "plt.xlim(0, time_horizon)\n",
        "plt.xlabel('Time')\n",
        "plt.title('Simulated Temporal Point Process')\n",
        "plt.show()\n"
      ]
    },
    {
      "cell_type": "code",
      "execution_count": 2,
      "metadata": {
        "colab": {
          "base_uri": "https://localhost:8080/",
          "height": 216
        },
        "id": "vqQsmBZ7e6cH",
        "outputId": "3a133a95-90ea-4f59-b4d2-648bb6019a5c"
      },
      "outputs": [
        {
          "name": "stdout",
          "output_type": "stream",
          "text": [
            "Simulated event times: [0.34490000000000004, 0.9578000000000001, 0.9645, 1.2107, 1.7021000000000002, 1.9027, 1.9694, 1.9708, 2.0976, 2.1692, 2.2739000000000003, 2.3943000000000003, 2.5348, 2.5955, 2.6966, 2.7247000000000003, 2.8055000000000003, 2.807, 3.0388, 3.0468, 3.2452, 3.3906, 3.6178000000000003, 3.7379000000000002, 3.8925, 4.2441, 4.285200000000001, 4.335100000000001, 4.3993, 4.554600000000001, 4.6582, 4.6886, 4.7338000000000005, 5.1818, 5.3513, 5.6715, 5.8655, 5.891, 5.9057, 5.925800000000001, 5.9327000000000005, 5.9852, 6.0829, 6.105, 6.1607, 6.5743, 6.8689, 6.9198, 6.942, 7.0669, 7.414000000000001, 7.4164, 7.6089, 8.5398, 8.649600000000001, 8.6639]\n"
          ]
        },
        {
          "data": {
            "image/png": "[encoded data removed]",
            "text/plain": [
              "<Figure size 1000x100 with 1 Axes>"
            ]
          },
          "metadata": {},
          "output_type": "display_data"
        }
      ],
      "source": [
        "import numpy as np\n",
        "import matplotlib.pyplot as plt\n",
        "\n",
        "class DiscreteTimeThinningAlgorithm:\n",
        "    def __init__(self, time_horizon, upper_bound_rate, delta=0.001, kernel=None):\n",
        "        self.time_horizon = time_horizon\n",
        "        self.upper_bound_rate = upper_bound_rate\n",
        "        self.delta = delta\n",
        "        if kernel is None:\n",
        "            # Default to exponential kernel with decay parameter 1.0\n",
        "            self.kernel = lambda t: np.exp(-t)\n",
        "        else:\n",
        "            self.kernel = kernel\n",
        "\n",
        "    def simulate(self):\n",
        "        events = []\n",
        "        num_intervals = int(self.time_horizon / self.delta)\n",
        "        potential_events = []\n",
        "\n",
        "        # Step 1: Generate potential events using the base process\n",
        "        for i in range(num_intervals):\n",
        "            current_time = i * self.delta\n",
        "            if np.random.uniform(0, 1) < self.delta * self.upper_bound_rate:\n",
        "                potential_events.append(current_time)\n",
        "\n",
        "        # Step 2: Thinning\n",
        "        for event_time in potential_events:\n",
        "            intensity = self.kernel(event_time - np.array(events)).sum() if events else 0\n",
        "            mu = 1.0  # Baseline intensity\n",
        "            total_intensity = mu + intensity\n",
        "\n",
        "            # Accept the candidate event with probability proportional to the current intensity\n",
        "            if np.random.uniform(0, 1) < total_intensity / self.upper_bound_rate:\n",
        "                events.append(event_time)\n",
        "\n",
        "        return events\n",
        "\n",
        "# Function to simulate a temporal point process using the discrete-time thinning algorithm\n",
        "def simulate_temporal_point_process(time_horizon, upper_bound_rate, delta=0.001, kernel=None):\n",
        "    thinning_algorithm = DiscreteTimeThinningAlgorithm(time_horizon, upper_bound_rate, delta, kernel)\n",
        "    return thinning_algorithm.simulate()\n",
        "\n",
        "# Example usage\n",
        "time_horizon = 10.0\n",
        "upper_bound_rate = 5.0  # Upper bound of the rate\n",
        "delta = 0.0001  # Interval size\n",
        "events = simulate_temporal_point_process(time_horizon, upper_bound_rate, delta)\n",
        "print(\"Simulated event times:\", events)\n",
        "\n",
        "# Plotting the event times\n",
        "plt.figure(figsize=(10, 1))\n",
        "plt.eventplot(events, orientation='horizontal', colors='black')\n",
        "plt.xlim(0, time_horizon)\n",
        "plt.xlabel('Time')\n",
        "plt.title('Simulated Temporal Point Process')\n",
        "plt.show()\n"
      ]
    },
    {
      "cell_type": "code",
      "execution_count": 3,
      "metadata": {
        "id": "CdnxtVn3gWco"
      },
      "outputs": [],
      "source": [
        "## Data"
      ]
    },
    {
      "cell_type": "markdown",
      "metadata": {},
      "source": [
        "### Non-homogeneous Poisson point process"
      ]
    },
    {
      "cell_type": "code",
      "execution_count": 10,
      "metadata": {},
      "outputs": [
        {
          "name": "stdout",
          "output_type": "stream",
          "text": [
            "Sampled event times: [0.5040000000000003, 0.9160000000000006, 1.3730000000000009, 2.2420000000000018, 2.556000000000002, 3.2150000000000025, 3.656000000000003, 3.913000000000003, 4.110000000000003, 4.454000000000003, 5.1860000000000035, 5.418000000000004, 5.999000000000004, 6.085000000000004, 6.169000000000004, 6.246000000000004, 6.388000000000004, 6.601000000000004, 6.860000000000005, 7.393000000000005, 7.517000000000005, 7.615000000000005, 7.954000000000005, 8.059000000000005, 8.303000000000004, 8.623000000000005, 8.756000000000006, 8.791000000000006, 9.043000000000006, 9.141000000000007, 9.388000000000007, 9.601000000000008, 9.742000000000008]\n"
          ]
        }
      ],
      "source": [
        "import numpy as np\n",
        "\n",
        "def sample_event_time(intensity_func, events, h, step_size):\n",
        "    t = 0\n",
        "    while True:\n",
        "        t += step_size\n",
        "        prob = intensity_func(t, events) * step_size\n",
        "        if np.random.random() < prob:\n",
        "            return t\n",
        "        if t > h:\n",
        "            return h\n",
        "\n",
        "def sample_inhomogeneous_point_process(h, intensity_func, step_size=0.001):\n",
        "    # Input: time horizon h > 0, intensity function\n",
        "    # Output: list of event times\n",
        "    events = []\n",
        "    t = 0\n",
        "    while t < h:\n",
        "        t_next = sample_event_time(intensity_func, events, h, step_size)\n",
        "        t += t_next\n",
        "        if t < h:  # If the updated time is within the time horizon, add it to the list\n",
        "            events.append(t)\n",
        "    return events\n",
        "\n",
        "# Example intensity function\n",
        "def example_intensity_func(t, events):\n",
        "    # A simple intensity function that increases with the number of past events\n",
        "    base_rate = 1.0 if t < 0.5 else 10.0\n",
        "    return base_rate + 0.1 * len(events)\n",
        "\n",
        "# Example usage\n",
        "time_horizon = 10.  # Time horizon h > 0\n",
        "sample = sample_inhomogeneous_point_process(time_horizon, example_intensity_func)\n",
        "print(\"Sampled event times:\", sample)\n"
      ]
    },
    {
      "cell_type": "code",
      "execution_count": 11,
      "metadata": {},
      "outputs": [
        {
          "name": "stdout",
          "output_type": "stream",
          "text": [
            "Sampled event times: [0.4240000000000003, 0.8110000000000006, 0.9250000000000007, 1.5130000000000012, 2.216000000000002, 2.585000000000002, 2.6080000000000023, 3.139000000000003, 3.481000000000003, 3.725000000000003, 3.8980000000000032, 3.9170000000000034, 4.372000000000003, 4.5610000000000035, 4.876000000000004, 5.466000000000005, 5.677000000000005, 5.743000000000005, 5.999000000000005, 6.135000000000005, 6.624000000000006, 6.844000000000006, 7.0190000000000055, 7.2690000000000055, 7.377000000000005, 7.679000000000006, 7.885000000000006, 8.337000000000007, 8.392000000000007, 8.402000000000006, 8.975000000000007, 9.173000000000007, 9.685000000000008]\n"
          ]
        }
      ],
      "source": [
        "import numpy as np\n",
        "\n",
        "def sample_event_time(intensity_func, events, h, step_size):\n",
        "    t = 0\n",
        "    cumulative_intensity = 0\n",
        "    target = np.random.exponential(1)  # Sample from the exponential distribution with rate 1\n",
        "    \n",
        "    while True:\n",
        "        if t >= h:\n",
        "            return h\n",
        "        intensity = intensity_func(t, events)\n",
        "        cumulative_intensity += intensity * step_size\n",
        "        t += step_size\n",
        "        if cumulative_intensity >= target:\n",
        "            return t\n",
        "\n",
        "def sample_inhomogeneous_point_process(h, intensity_func, step_size=0.001):\n",
        "    # Input: time horizon h > 0, intensity function\n",
        "    # Output: list of event times\n",
        "    events = []\n",
        "    t = 0\n",
        "    while t < h:\n",
        "        t_next = sample_event_time(intensity_func, events, h, step_size)\n",
        "        t += t_next\n",
        "        if t < h:  # If the updated time is within the time horizon, add it to the list\n",
        "            events.append(t)\n",
        "    return events\n",
        "\n",
        "# Example intensity function\n",
        "def example_intensity_func(t, events):\n",
        "    # A simple intensity function that increases with the number of past events\n",
        "    base_rate = 1.0 if t < 0.5 else 10.0\n",
        "    return base_rate + 0.1 * len(events)\n",
        "\n",
        "# Example usage\n",
        "time_horizon = 10.  # Time horizon h > 0\n",
        "sample = sample_inhomogeneous_point_process(time_horizon, example_intensity_func)\n",
        "print(\"Sampled event times:\", sample)\n"
      ]
    },
    {
      "cell_type": "markdown",
      "metadata": {},
      "source": [
        "### Thinning"
      ]
    },
    {
      "cell_type": "code",
      "execution_count": 17,
      "metadata": {},
      "outputs": [
        {
          "name": "stdout",
          "output_type": "stream",
          "text": [
            "Sampled event times: [0.46635384868672547, 0.7973886708451243, 0.9939056443280186, 1.387105851855678, 1.674633768513446, 1.6972896813701739, 1.8969272231569285, 1.9781475072817216, 2.0295078534570736, 2.07548573855767, 2.1884931024003214, 2.3104370150303444, 2.3398159745312888, 2.441095396548345, 2.5128611122253384, 2.5793266253340925, 2.6370576391338822, 2.651326541465175, 2.718623530361973, 2.7265995409452537, 3.0298922615378188, 3.032672600427821, 3.054718558497951, 3.151953336502613, 3.2250676405532777, 3.2912452607187603, 3.3652875465231036, 3.438682153933884, 3.535756734879823, 3.6308785940270916, 3.9228861044404373, 3.9415709617490915, 3.954924086029462, 3.998532764012619, 4.121618328499305, 4.619530005456972, 4.622709209777496, 4.708586651629293, 4.792005746804166, 4.799014444032891, 4.83301560014458, 4.934272377687133, 5.075089062132944, 5.1228283507096295, 5.182527208166317, 5.191735566916588, 5.2708832111062165, 5.2909166340548275, 5.6867957141304935, 5.7109893271942065, 5.7381694748880285, 5.7600105292637025, 5.7787894417296295, 5.947909742699474, 5.9667103903513, 6.0030749486078445, 6.029931850066581, 6.152351504652697, 6.194970725587922, 6.2459473387278726, 6.315015388962431, 6.3399068900272555, 6.447507188639371, 6.465755074963246, 6.502615107188004, 6.536280210288949, 6.576899860250427, 6.758047974269047, 6.787101620810274, 6.802669041251159, 6.812220141431137, 6.883417348861215, 6.9657508172022595, 7.041466202642093, 7.0894318271004675, 7.26420001925123, 7.306237277848987, 7.346675949261698, 7.462776682371117, 7.5467553234373375, 7.64600541996327, 7.6940429181071694, 7.735868953383264, 7.753579783723858, 7.759301442798509, 7.831872775231932, 7.856116477703922, 7.882668723523291, 8.042713880747195, 8.256989153211052, 8.260026018465222, 8.274321594340188, 8.293942407340657, 8.374598910346162, 8.386337722719457, 8.419424618830938, 8.460317596524566, 8.484778463583812, 8.510716655247663, 8.544874317066883, 8.55101887620072, 8.576294351626368, 8.71347735661515, 8.749469136546715, 8.804424626867197, 8.831160366965433, 8.873420886188782, 8.88329014454843, 8.897529108829445, 8.914303840185953, 9.00881568878947, 9.020161207816672, 9.147583812841324, 9.249947791549904, 9.28471009214319, 9.356855703582088, 9.437300425574698, 9.468888215379119, 9.612636375176635, 9.628945034078527, 9.683699742159071, 9.766737335141046, 9.828083020634269, 9.829496554255414, 9.857639758924305, 9.925288560665505]\n"
          ]
        }
      ],
      "source": [
        "\n",
        "def sample_inhomogeneous_point_process(h, intensity_func, upper_bound):\n",
        "    base_process = sample_homogeneous_point_process(h = h, lambda_rate = upper_bound)\n",
        "    events = []\n",
        "    for t in base_process:\n",
        "        if t >= h:\n",
        "            break\n",
        "        if np.random.uniform(0, 1) < intensity_func(t, events) / upper_bound:\n",
        "            events.append(t)\n",
        "    return events\n",
        "\n",
        "\n",
        "# Example intensity function\n",
        "def example_intensity_func(t, events):\n",
        "    # A simple intensity function that increases with the number of past events\n",
        "    base_rate = 1.0 if t < 0.5 else 10.0\n",
        "    return base_rate + 0.1 * len(events)\n",
        "\n",
        "# Example usage\n",
        "time_horizon = 10.  # Time horizon h > 0\n",
        "upper_bound = 100.0\n",
        "sample = sample_inhomogeneous_point_process(time_horizon, example_intensity_func, upper_bound)\n",
        "print(\"Sampled event times:\", sample)"
      ]
    },
    {
      "cell_type": "code",
      "execution_count": null,
      "metadata": {},
      "outputs": [],
      "source": []
    }
  ],
  "metadata": {
    "colab": {
      "provenance": [],
      "toc_visible": true
    },
    "kernelspec": {
      "display_name": "Python 3",
      "name": "python3"
    },
    "language_info": {
      "codemirror_mode": {
        "name": "ipython",
        "version": 3
      },
      "file_extension": ".py",
      "mimetype": "text/x-python",
      "name": "python",
      "nbconvert_exporter": "python",
      "pygments_lexer": "ipython3",
      "version": "3.11.7"
    }
  },
  "nbformat": 4,
  "nbformat_minor": 0
}
